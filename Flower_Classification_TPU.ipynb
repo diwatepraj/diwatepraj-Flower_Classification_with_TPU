{
  "nbformat": 4,
  "nbformat_minor": 0,
  "metadata": {
    "colab": {
      "name": "Flower_Classification_TPU.ipynb",
      "provenance": [],
      "authorship_tag": "ABX9TyM1RY0wF9q9kg3GVi3j8MCX",
      "include_colab_link": true
    },
    "kernelspec": {
      "name": "python3",
      "display_name": "Python 3"
    }
  },
  "cells": [
    {
      "cell_type": "markdown",
      "metadata": {
        "id": "view-in-github",
        "colab_type": "text"
      },
      "source": [
        "<a href=\"https://colab.research.google.com/github/diwatepraj/diwatepraj-Flower_Classification_with_TPU/blob/master/Flower_Classification_TPU.ipynb\" target=\"_parent\"><img src=\"https://colab.research.google.com/assets/colab-badge.svg\" alt=\"Open In Colab\"/></a>"
      ]
    },
    {
      "cell_type": "code",
      "metadata": {
        "id": "SN0g9BJe7fWg",
        "colab_type": "code",
        "colab": {}
      },
      "source": [
        "# Colab library to upload files to notebook\n",
        "from google.colab import files\n",
        "\n",
        "# Install Kaggle library\n",
        "!pip install -q kaggle"
      ],
      "execution_count": 3,
      "outputs": []
    },
    {
      "cell_type": "code",
      "metadata": {
        "id": "o3yHXcxC79Q-",
        "colab_type": "code",
        "colab": {
          "base_uri": "https://localhost:8080/",
          "height": 102
        },
        "outputId": "09df07ce-2877-44d8-cb85-34f52461801f"
      },
      "source": [
        "import os\n",
        "os.environ['KAGGLE_USERNAME'] = 'diwatepraj'\n",
        "os.environ['KAGGLE_KEY'] = \"64f5b74c2977ae6062ddf211162199a3\"\n",
        "!kaggle competitions download -c flower-classification-with-tpus\n",
        "!unzip -q *zip\n",
        "#!unzip -q train_images.zip -d /content/train_images\n",
        "#!unzip train.csv.zip\n",
        "#!unzip -q test_images.zip -d /content/test_images\n",
        "#!rm *.zip"
      ],
      "execution_count": 5,
      "outputs": [
        {
          "output_type": "stream",
          "text": [
            "Warning: Looks like you're using an outdated API Version, please consider updating (server 1.5.6 / client 1.5.4)\n",
            "403 - Forbidden\n",
            "unzip:  cannot find or open *zip, *zip.zip or *zip.ZIP.\n",
            "\n",
            "No zipfiles found.\n"
          ],
          "name": "stdout"
        }
      ]
    }
  ]
}